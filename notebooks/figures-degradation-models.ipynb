{
 "cells": [
  {
   "cell_type": "code",
   "execution_count": null,
   "metadata": {},
   "outputs": [],
   "source": [
    "%cd .."
   ]
  },
  {
   "cell_type": "code",
   "execution_count": null,
   "metadata": {},
   "outputs": [],
   "source": [
    "import os\n",
    "import numpy as np\n",
    "import imageio\n",
    "import skimage.transform\n",
    "import scipy.ndimage\n",
    "import scipy.io\n",
    "import matplotlib.pyplot as plt\n",
    "import h5py"
   ]
  },
  {
   "cell_type": "code",
   "execution_count": null,
   "metadata": {},
   "outputs": [],
   "source": [
    "x_slice = slice(1665, 3177)\n",
    "y_slice = slice(987, 2499)\n",
    "size_big = 256\n",
    "down_factor = 8\n",
    "levin_kernel_idx = 6\n",
    "gaussian_kernel_idx = 3\n",
    "output_folder = \"figures/deg_models\"\n",
    "\n",
    "\n",
    "def resize_big(img):\n",
    "    return skimage.transform.resize(\n",
    "        img, (size_big, size_big), anti_aliasing=True, order=3\n",
    "    )\n",
    "\n",
    "\n",
    "def downsample(img):\n",
    "    return img[::down_factor, ::down_factor, :]\n",
    "\n",
    "\n",
    "def add_noise(img, noise_sigma):\n",
    "    rng = np.random.default_rng()\n",
    "    noise = rng.normal(0, noise_sigma, img.shape)\n",
    "    return np.clip(img + noise, 0, 1)\n",
    "\n",
    "\n",
    "def blur(img, kernel):\n",
    "    res = []\n",
    "    for c in range(3):\n",
    "        res.append(scipy.ndimage.convolve(img[..., c], kernel))\n",
    "    return np.stack(res, axis=-1)\n",
    "\n",
    "\n",
    "def show_img(img):\n",
    "    plt.imshow(img)\n",
    "    plt.show()\n",
    "\n",
    "\n",
    "def save_img(img, filename):\n",
    "    if img.shape[0] != size_big:\n",
    "        img = skimage.transform.resize(img, (size_big, size_big), order=0)\n",
    "    imageio.imsave(os.path.join(output_folder, filename), img)\n",
    "\n",
    "\n",
    "def save_normalized(x, filename):\n",
    "    save_img(x / x.max(), filename)\n"
   ]
  },
  {
   "cell_type": "code",
   "execution_count": null,
   "metadata": {},
   "outputs": [],
   "source": [
    "# Bear\n",
    "orig = imageio.imread(\"notebooks/bear.jpg\")\n",
    "show_img(orig)\n",
    "\n",
    "# Mask\n",
    "mask = (imageio.imread(\"notebooks/mask.png\") == 255).astype(np.float32)\n",
    "show_img(mask)\n",
    "\n",
    "# Levin blur kernel\n",
    "with h5py.File(\"eval_utils/kernels/Levin09.mat\", \"r\") as f:\n",
    "    levin_kernel = f[f[\"kernels\"][()][levin_kernel_idx][0]][()].astype(\"float32\")\n",
    "show_img(levin_kernel)\n",
    "\n",
    "# Gaussian blur kernel\n",
    "gaussian_kernel = scipy.io.loadmat(\"eval_utils/kernels/kernels_12.mat\")[\"kernels\"][0][\n",
    "    gaussian_kernel_idx\n",
    "][5:20,5:20]\n",
    "show_img(gaussian_kernel)"
   ]
  },
  {
   "cell_type": "markdown",
   "metadata": {},
   "source": [
    "# Denoising"
   ]
  },
  {
   "cell_type": "code",
   "execution_count": null,
   "metadata": {},
   "outputs": [],
   "source": [
    "x = resize_big(orig[y_slice, x_slice])\n",
    "save_img(x, \"gt.png\")\n",
    "\n",
    "# Noise\n",
    "x = add_noise(x, 0.2)\n",
    "save_img(x, \"denoising_01.png\")\n",
    "show_img(x)"
   ]
  },
  {
   "cell_type": "markdown",
   "metadata": {},
   "source": [
    "# Deblurring"
   ]
  },
  {
   "cell_type": "code",
   "execution_count": null,
   "metadata": {},
   "outputs": [],
   "source": [
    "x = resize_big(orig[y_slice, x_slice])\n",
    "\n",
    "# Blur\n",
    "x = blur(x, levin_kernel)\n",
    "save_img(x, \"deblurring_01.png\")\n",
    "show_img(x)\n",
    "\n",
    "# Kernel\n",
    "save_normalized(levin_kernel, \"deblurring_kernel.png\")\n",
    "\n",
    "# Noise\n",
    "x = add_noise(x, 0.15)\n",
    "save_img(x, \"deblurring_02.png\")\n",
    "show_img(x)"
   ]
  },
  {
   "cell_type": "markdown",
   "metadata": {},
   "source": [
    "# Single Image Super-Resolution"
   ]
  },
  {
   "cell_type": "code",
   "execution_count": null,
   "metadata": {},
   "outputs": [],
   "source": [
    "x = resize_big(orig[y_slice, x_slice])\n",
    "\n",
    "# Blur\n",
    "x = blur(x, gaussian_kernel)\n",
    "save_img(x, \"sisr_01.png\")\n",
    "show_img(x)\n",
    "\n",
    "# Kernel\n",
    "save_normalized(gaussian_kernel, \"sisr_kernel.png\")\n",
    "\n",
    "# Downsample\n",
    "x = downsample(x)\n",
    "save_img(x, \"sisr_02.png\")\n",
    "show_img(x)\n",
    "\n",
    "# Noise\n",
    "x = add_noise(x, 0.05)\n",
    "save_img(x, \"sisr_03.png\")\n",
    "show_img(x)"
   ]
  },
  {
   "cell_type": "markdown",
   "metadata": {},
   "source": [
    "# Multi Frame Super-Resolution"
   ]
  },
  {
   "cell_type": "code",
   "execution_count": null,
   "metadata": {},
   "outputs": [],
   "source": [
    "slices = [\n",
    "    (1123, 1801, 1136),\n",
    "    (731, 1361, 1672),\n",
    "    (723, 1593, 2096),\n",
    "    (1051, 1897, 1408),\n",
    "]\n",
    "\n",
    "for idx, (y, x, w) in enumerate(slices):\n",
    "    \n",
    "    # Warp\n",
    "    ys = slice(y, y+w)\n",
    "    xs = slice(x, x+w)\n",
    "    x = resize_big(orig[ys, xs])\n",
    "    save_img(x, f\"mfsr_01_{idx}.png\")\n",
    "\n",
    "    # Blur\n",
    "    x = blur(x, gaussian_kernel)\n",
    "    save_img(x, f\"mfsr_02_{idx}.png\")\n",
    "\n",
    "    # Downsample\n",
    "    x = downsample(x)\n",
    "    save_img(x, f\"mfsr_03_{idx}.png\")\n",
    "\n",
    "    # Noise\n",
    "    x = add_noise(x, 0.05)\n",
    "    save_img(x, f\"mfsr_04_{idx}.png\")\n",
    "    show_img(x)\n",
    "\n",
    "# Kernel\n",
    "save_normalized(gaussian_kernel, \"mfsr_kernel.png\")"
   ]
  },
  {
   "cell_type": "markdown",
   "metadata": {},
   "source": [
    "# Inpainting"
   ]
  },
  {
   "cell_type": "code",
   "execution_count": null,
   "metadata": {},
   "outputs": [],
   "source": [
    "x = resize_big(orig[y_slice, x_slice])\n",
    "\n",
    "# Apply mask\n",
    "x = (1 -mask) * x + mask\n",
    "save_img(x, \"inpainting_01.png\")\n",
    "show_img(x)\n",
    "\n",
    "# Save mask\n",
    "save_img(mask, \"inpainting_mask.png\")\n",
    "\n",
    "# Noise\n",
    "x = add_noise(x, 0.1)\n",
    "save_img(x, \"inpainting_02.png\")\n",
    "show_img(x)"
   ]
  },
  {
   "cell_type": "markdown",
   "metadata": {},
   "source": [
    "# Noise"
   ]
  },
  {
   "cell_type": "code",
   "execution_count": null,
   "metadata": {},
   "outputs": [],
   "source": [
    "x = np.ones((size_big, size_big, 3)) * 0.5\n",
    "x = add_noise(x, 10)\n",
    "save_img(x, \"noise.png\")\n",
    "show_img(x)"
   ]
  },
  {
   "cell_type": "markdown",
   "metadata": {},
   "source": [
    "# Machine Learning Model"
   ]
  },
  {
   "cell_type": "code",
   "execution_count": null,
   "metadata": {},
   "outputs": [],
   "source": [
    "import tensorflow as tf\n",
    "import tensorflow_datasets as tfds\n",
    "import tensorflow_datasets_bw as tfdsbw\n",
    "\n",
    "images = (\n",
    "    tfds.load(\"cbsd68\", split=\"test\")\n",
    "    .map(tfdsbw.get_image)\n",
    "    .map(tfdsbw.to_float32)\n",
    "    .map(tfdsbw.from_255_to_1_range)\n",
    ")\n",
    "\n",
    "num_images = 4\n",
    "\n",
    "for idx, img in enumerate(images):\n",
    "    x = img.numpy()\n",
    "    h, w, _ = x.shape\n",
    "\n",
    "    # Make square\n",
    "    if w > h:\n",
    "        border = (w - h) // 2\n",
    "        x = x[:, border:(border + h)]\n",
    "    elif w < h:\n",
    "        border = (h - w) // 2\n",
    "        x = x[border:(border + w), :]\n",
    "\n",
    "    x = resize_big(x)\n",
    "    show_img(x)\n",
    "    save_img(x, f\"ml_{idx:02d}_clear.png\")\n",
    "\n",
    "    # Degrade\n",
    "    x = blur(x, levin_kernel)\n",
    "    x = add_noise(x, 0.15)\n",
    "    show_img(x)\n",
    "    save_img(x, f\"ml_{idx:02d}_blurry.png\")\n",
    "\n",
    "    if idx + 1 >= num_images:\n",
    "        break\n"
   ]
  },
  {
   "cell_type": "code",
   "execution_count": null,
   "metadata": {},
   "outputs": [],
   "source": [
    "x = resize_big(orig[y_slice, x_slice])\n",
    "\n",
    "# Blur\n",
    "x = blur(x, gaussian_kernel)\n",
    "x = add_noise(x, 0.15)\n",
    "save_img(x, \"ml_other_blurry.png\")\n",
    "show_img(x)"
   ]
  }
 ],
 "metadata": {
  "interpreter": {
   "hash": "dffd23d7ca419e43319f16c2fe4307467f3c3a6efb6d0d84da8b4ebb66d54db2"
  },
  "kernelspec": {
   "display_name": "Python 3.6.13 64-bit ('masters-thesis-eval': conda)",
   "language": "python",
   "name": "python3"
  },
  "language_info": {
   "codemirror_mode": {
    "name": "ipython",
    "version": 3
   },
   "file_extension": ".py",
   "mimetype": "text/x-python",
   "name": "python",
   "nbconvert_exporter": "python",
   "pygments_lexer": "ipython3",
   "version": "3.6.13"
  },
  "orig_nbformat": 4
 },
 "nbformat": 4,
 "nbformat_minor": 2
}
