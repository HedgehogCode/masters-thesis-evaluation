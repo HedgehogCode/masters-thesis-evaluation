{
 "cells": [
  {
   "cell_type": "code",
   "execution_count": null,
   "metadata": {},
   "outputs": [],
   "source": [
    "%cd .."
   ]
  },
  {
   "cell_type": "code",
   "execution_count": null,
   "metadata": {},
   "outputs": [],
   "source": [
    "import os\n",
    "os.environ['TF_CPP_MIN_LOG_LEVEL'] = '2'\n",
    "os.environ['CUDA_VISIBLE_DEVICES'] = ''\n",
    "import tensorflow as tf"
   ]
  },
  {
   "cell_type": "code",
   "execution_count": null,
   "metadata": {},
   "outputs": [],
   "source": [
    "import tensorflow_datasets as tfds\n",
    "import tensorflow_datasets_bw as datasets\n",
    "import eval_utils\n",
    "from eval_utils import utils, nb_deblurring\n",
    "from eval_utils.vsr import _load_vsr_dataset, _define_vsr_model, VSR_DATASETS"
   ]
  },
  {
   "cell_type": "code",
   "execution_count": null,
   "metadata": {},
   "outputs": [],
   "source": [
    "import dppp\n",
    "\n",
    "bicubic_rescale = dppp.create_resize_fn()\n",
    "\n",
    "def superresolver(vid, idx, scale, _):\n",
    "    return bicubic_rescale(vid[idx][None, ...], scale, True)[0]"
   ]
  },
  {
   "cell_type": "code",
   "execution_count": null,
   "metadata": {},
   "outputs": [],
   "source": [
    "def example_vsr(superresolver, result, example_idx=0, save_gt=False, seed=99):\n",
    "    example = EXAMPLES[example_idx]\n",
    "    scale_factor = example[\"scale_factor\"]\n",
    "    image_idx = example[\"image_idx\"]\n",
    "\n",
    "    _, __, dataset = _load_vsr_dataset(example[\"dataset_def\"], scale_factor)\n",
    "    data = datasets.get_one_example(dataset, index=image_idx)\n",
    "\n",
    "    model = _define_vsr_model(superresolver, scale_factor)\n",
    "    hr, sr = model(data, seed + example_idx)\n",
    "    print(hr.shape)\n",
    "\n",
    "    # Save the example\n",
    "    utils.save_example(\n",
    "        gt=hr,\n",
    "        output=sr,\n",
    "        result=result,\n",
    "        save_gt=save_gt,\n",
    "        figure_width=1.1,  # TODO set according to size in pdf\n",
    "        **example[\"figure_args\"],\n",
    "    )"
   ]
  },
  {
   "cell_type": "code",
   "execution_count": null,
   "metadata": {},
   "outputs": [],
   "source": [
    "EXAMPLES = [\n",
    "    {\n",
    "        \"dataset_def\": {\n",
    "            \"name\": \"MDSP Color\",\n",
    "            \"key\": \"mdsp_color_sr\",\n",
    "            \"split\": \"test\",\n",
    "            \"lr_image_key\": \"video\",\n",
    "        },\n",
    "        \"image_idx\": 0,\n",
    "        \"scale_factor\": 4,\n",
    "        \"figure_args\": {\n",
    "            \"compute_metrics\": False,\n",
    "            \"region_center\": (50, 50),\n",
    "            \"region_extent\": 50,\n",
    "            \"rel_width\": 0,\n",
    "            \"place_border\": 0.01,\n",
    "            \"place_top\": False,\n",
    "            \"place_right\": False,\n",
    "        },\n",
    "    },\n",
    "]\n",
    "\n",
    "with open(\"tmp.png\", \"w\") as f:\n",
    "    example_vsr(superresolver, f, save_gt=False)\n"
   ]
  },
  {
   "cell_type": "code",
   "execution_count": null,
   "metadata": {},
   "outputs": [],
   "source": []
  }
 ],
 "metadata": {
  "interpreter": {
   "hash": "a2a8e9b59df830d48e9f72a82c46cdc1119b3ef257c7d0eadd36484a360f3166"
  },
  "kernelspec": {
   "display_name": "Python 3.6.13 64-bit ('masters-proj-eval': conda)",
   "name": "python3"
  },
  "language_info": {
   "codemirror_mode": {
    "name": "ipython",
    "version": 3
   },
   "file_extension": ".py",
   "mimetype": "text/x-python",
   "name": "python",
   "nbconvert_exporter": "python",
   "pygments_lexer": "ipython3",
   "version": "3.6.13"
  },
  "orig_nbformat": 4
 },
 "nbformat": 4,
 "nbformat_minor": 2
}
