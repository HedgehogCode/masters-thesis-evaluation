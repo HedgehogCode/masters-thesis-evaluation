{
 "cells": [
  {
   "cell_type": "code",
   "execution_count": null,
   "metadata": {},
   "outputs": [],
   "source": [
    "%cd .."
   ]
  },
  {
   "cell_type": "code",
   "execution_count": null,
   "metadata": {},
   "outputs": [],
   "source": [
    "import json\n",
    "import pandas as pd\n",
    "from notebooks import utils"
   ]
  },
  {
   "cell_type": "code",
   "execution_count": null,
   "metadata": {},
   "outputs": [],
   "source": [
    "MODEL_COL = \"model\"\n",
    "METHOD_COL = \"method\"\n",
    "DATASET_COL = \"dataset\"\n",
    "IMAGE_COL = \"image_index\"\n",
    "SCALE_COL = \"scale_factor\"\n",
    "DOWNSCALE_COL = \"downscale_method\""
   ]
  },
  {
   "cell_type": "code",
   "execution_count": null,
   "metadata": {},
   "outputs": [],
   "source": [
    "hqs_folder = \"results/sisr/hqs/\"\n",
    "dmsp_folder = \"results/sisr/dmsp/\"\n",
    "bicubic_csv = \"results/sisr/bicubic.csv\"\n",
    "edsr_csv = \"results/sisr/edsr.csv\"\n",
    "esrgan_csv = \"results/sisr/esrgan.csv\"\n",
    "\n",
    "# HQS\n",
    "df_hqs = utils.load_folder(hqs_folder, MODEL_COL)\n",
    "df_hqs[METHOD_COL] = \"hqs\"\n",
    "\n",
    "# DMSP\n",
    "df_dmsp = utils.load_folder(dmsp_folder, MODEL_COL)\n",
    "df_dmsp[METHOD_COL] = \"dmsp\"\n",
    "\n",
    "# Bicubic\n",
    "df_bicubic = pd.read_csv(bicubic_csv)\n",
    "df_bicubic[METHOD_COL] = \"bicubic\"\n",
    "df_bicubic[MODEL_COL] = \"-\"\n",
    "\n",
    "# EDSR\n",
    "df_edsr = pd.read_csv(edsr_csv)\n",
    "df_edsr[METHOD_COL] = \"edsr\"\n",
    "df_edsr[MODEL_COL] = \"-\"\n",
    "\n",
    "# ESRGAN\n",
    "df_esrgan = pd.read_csv(esrgan_csv)\n",
    "df_esrgan[METHOD_COL] = \"esrgan\"\n",
    "df_esrgan[MODEL_COL] = \"-\"\n",
    "\n",
    "# Combine the datasets\n",
    "df_all = pd.concat([df_hqs, df_dmsp, df_bicubic, df_edsr, df_esrgan], axis=0)"
   ]
  },
  {
   "cell_type": "code",
   "execution_count": null,
   "metadata": {},
   "outputs": [],
   "source": [
    "print(df_all[DATASET_COL].unique())\n",
    "print(df_all[DOWNSCALE_COL].unique())"
   ]
  },
  {
   "cell_type": "code",
   "execution_count": null,
   "metadata": {},
   "outputs": [],
   "source": [
    "dataset = \"Set5\"\n",
    "scale_factor = 2\n",
    "downscale_method=\"kernel_1\"\n",
    "\n",
    "df = df_all.copy()\n",
    "\n",
    "df = df[df[DATASET_COL] == dataset]\n",
    "df = df[df[SCALE_COL] == scale_factor]\n",
    "df = df[df[DOWNSCALE_COL] == downscale_method]\n",
    "\n",
    "df = df.groupby([MODEL_COL, METHOD_COL, DATASET_COL, SCALE_COL, DOWNSCALE_COL]).mean()\n",
    "df = df.drop(IMAGE_COL, axis=1)\n",
    "\n",
    "# NOTE only for viewing the results in the notebook\n",
    "# -> Max is the best for each metric\n",
    "df[\"LPIPS_ALEX\"] = 1 - df[\"LPIPS_ALEX\"]\n",
    "df[\"LPIPS_VGG\"] = 1 - df[\"LPIPS_VGG\"]\n",
    "\n",
    "df.style.highlight_max(color='green', axis=0)"
   ]
  }
 ],
 "metadata": {
  "interpreter": {
   "hash": "a2a8e9b59df830d48e9f72a82c46cdc1119b3ef257c7d0eadd36484a360f3166"
  },
  "kernelspec": {
   "display_name": "Python 3.6.13 64-bit ('masters-proj-eval': conda)",
   "name": "python3"
  },
  "language_info": {
   "codemirror_mode": {
    "name": "ipython",
    "version": 3
   },
   "file_extension": ".py",
   "mimetype": "text/x-python",
   "name": "python",
   "nbconvert_exporter": "python",
   "pygments_lexer": "ipython3",
   "version": "3.6.13"
  }
 },
 "nbformat": 4,
 "nbformat_minor": 5
}
