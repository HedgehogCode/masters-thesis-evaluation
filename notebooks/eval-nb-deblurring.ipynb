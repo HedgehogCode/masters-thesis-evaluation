{
 "cells": [
  {
   "cell_type": "code",
   "execution_count": null,
   "metadata": {},
   "outputs": [],
   "source": [
    "%cd .."
   ]
  },
  {
   "cell_type": "code",
   "execution_count": null,
   "metadata": {},
   "outputs": [],
   "source": [
    "import json\n",
    "import pandas as pd\n",
    "from notebooks import utils"
   ]
  },
  {
   "cell_type": "code",
   "execution_count": null,
   "metadata": {},
   "outputs": [],
   "source": [
    "MODEL_COL = \"model\"\n",
    "METHOD_COL = \"method\"\n",
    "DATASET_COL = \"dataset\"\n",
    "IMAGE_COL = \"image_index\"\n",
    "NOISE_COL = \"noise_stddev\"\n",
    "KERNEL_COL = \"kernel\""
   ]
  },
  {
   "cell_type": "code",
   "execution_count": null,
   "metadata": {},
   "outputs": [],
   "source": [
    "hqs_folder = \"results/nb_deblurring/hqs/\"\n",
    "dmsp_folder = \"results/nb_deblurring/dmsp/\"\n",
    "dmsp_orig_csv = \"results/nb_deblurring/dmsp_paper.csv\"\n",
    "dpir_csv = \"results/nb_deblurring/dpir.csv\"\n",
    "fdn_csv = \"results/nb_deblurring/fdn.csv\"\n",
    "\n",
    "# HQS\n",
    "df_hqs = utils.load_folder(hqs_folder, MODEL_COL)\n",
    "df_hqs[METHOD_COL] = \"hqs\"\n",
    "\n",
    "# DMSP\n",
    "df_dmsp = utils.load_folder(dmsp_folder, MODEL_COL)\n",
    "df_dmsp[METHOD_COL] = \"dmsp\"\n",
    "\n",
    "# DMSP reference code\n",
    "df_dmsp_orig = pd.read_csv(dmsp_orig_csv)\n",
    "df_dmsp_orig[MODEL_COL] = \"DAE\"\n",
    "df_dmsp_orig[METHOD_COL] = \"dmsp_paper\"\n",
    "\n",
    "# DPIR\n",
    "df_dpir = pd.read_csv(dpir_csv)\n",
    "df_dpir[MODEL_COL] = \"DRUNet\"\n",
    "df_dpir[METHOD_COL] = \"dpir\"\n",
    "\n",
    "# Combine the datasets\n",
    "df_all = pd.concat([df_hqs, df_dmsp, df_dmsp_orig, df_dpir], axis=0)\n"
   ]
  },
  {
   "cell_type": "code",
   "execution_count": null,
   "metadata": {},
   "outputs": [],
   "source": [
    "print(df_all[DATASET_COL].unique())\n",
    "print(df_all[KERNEL_COL].unique())"
   ]
  },
  {
   "cell_type": "code",
   "execution_count": null,
   "metadata": {},
   "outputs": [],
   "source": [
    "dataset = \"BSDS500\"\n",
    "noise_stddev = 0.04\n",
    "kernel = \"schelten\"\n",
    "\n",
    "df = df_all.copy()\n",
    "\n",
    "df = df[df[DATASET_COL] == dataset]\n",
    "df = df[df[NOISE_COL] == noise_stddev]\n",
    "df = df[df[KERNEL_COL] == kernel]\n",
    "\n",
    "df = df.groupby([MODEL_COL, METHOD_COL, DATASET_COL, NOISE_COL]).mean()\n",
    "df = df.drop(IMAGE_COL, axis=1)\n",
    "\n",
    "# NOTE only for viewing the results in the notebook\n",
    "# -> Max is the best for each metric\n",
    "df[\"LPIPS_ALEX\"] = 1 - df[\"LPIPS_ALEX\"]\n",
    "df[\"LPIPS_VGG\"] = 1 - df[\"LPIPS_VGG\"]\n",
    "\n",
    "df.style.highlight_max(color='green', axis=0)"
   ]
  }
 ],
 "metadata": {
  "interpreter": {
   "hash": "a2a8e9b59df830d48e9f72a82c46cdc1119b3ef257c7d0eadd36484a360f3166"
  },
  "kernelspec": {
   "display_name": "Python 3.6.13 64-bit ('masters-proj-eval': conda)",
   "name": "python3"
  },
  "language_info": {
   "codemirror_mode": {
    "name": "ipython",
    "version": 3
   },
   "file_extension": ".py",
   "mimetype": "text/x-python",
   "name": "python",
   "nbconvert_exporter": "python",
   "pygments_lexer": "ipython3",
   "version": "3.6.13"
  }
 },
 "nbformat": 4,
 "nbformat_minor": 5
}
