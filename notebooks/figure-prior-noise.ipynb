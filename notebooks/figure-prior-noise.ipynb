{
 "cells": [
  {
   "cell_type": "code",
   "execution_count": null,
   "id": "7a6734ac",
   "metadata": {},
   "outputs": [],
   "source": [
    "%cd .."
   ]
  },
  {
   "cell_type": "code",
   "execution_count": null,
   "id": "858bee06",
   "metadata": {},
   "outputs": [],
   "source": [
    "import os\n",
    "import pandas as pd\n",
    "import matplotlib as mpl\n",
    "import matplotlib.pyplot as plt\n",
    "import seaborn as sns\n",
    "pd.set_option('display.max_rows', 1000)"
   ]
  },
  {
   "cell_type": "code",
   "execution_count": null,
   "id": "6e64ccc0",
   "metadata": {},
   "outputs": [],
   "source": [
    "# TEX_TABLE_DIR = \"../masters-thesis-tex/tables/\"\n",
    "\n",
    "PRIOR_NOISE_COL = \"prior_noise\"\n",
    "MODEL_COL = \"model\"\n",
    "METHOD_COL = \"method\"\n",
    "DATASET_COL = \"dataset\"\n",
    "IMAGE_COL = \"image_index\"\n",
    "NOISE_COL = \"noise_stddev\"\n",
    "KERNEL_COL = \"kernel\""
   ]
  },
  {
   "cell_type": "code",
   "execution_count": null,
   "id": "df20e1bf",
   "metadata": {},
   "outputs": [],
   "source": [
    "# Setup plots\n",
    "font_size = 7\n",
    "mpl.use(\"pgf\")\n",
    "mpl.rcParams.update({\n",
    "    \"pgf.texsystem\": \"pdflatex\",\n",
    "    'font.family': 'serif',\n",
    "    'text.usetex': True,\n",
    "    'pgf.rcfonts': False,\n",
    "    'font.size': font_size,\n",
    "})\n",
    "\n",
    "def save_figure(fig, name):\n",
    "    plt.tight_layout()\n",
    "    fig.savefig(f'{name}.pgf', format='pgf')"
   ]
  },
  {
   "cell_type": "code",
   "execution_count": null,
   "id": "d9d6ee8a",
   "metadata": {},
   "outputs": [],
   "source": [
    "folder = \"results/prior-noise-dmsp/\"\n",
    "\n",
    "dfs = []\n",
    "for f in os.listdir(folder):\n",
    "    df = pd.read_csv(os.path.join(folder, f))\n",
    "    df[PRIOR_NOISE_COL] = float(f[:-4])\n",
    "    dfs.append(df)\n",
    "\n",
    "df_all = pd.concat(dfs, axis=0)"
   ]
  },
  {
   "cell_type": "code",
   "execution_count": null,
   "id": "44b4baad",
   "metadata": {},
   "outputs": [],
   "source": [
    "print(df_all[DATASET_COL].unique())"
   ]
  },
  {
   "cell_type": "markdown",
   "id": "6a8d47a2",
   "metadata": {},
   "source": [
    "# Create the figure"
   ]
  },
  {
   "cell_type": "code",
   "execution_count": null,
   "id": "1003226b",
   "metadata": {},
   "outputs": [],
   "source": [
    "dataset = \"BSDS500\"\n",
    "metrics = [\"PSNR\", \"LPIPS_ALEX\"]\n",
    "metrics_mapping = {\n",
    "    \"PSNR\": \"PSNR\",\n",
    "    \"LPIPS_ALEX\": \"LPIPS\",\n",
    "}\n",
    "noise_levels = [0.01, 0.02, 0.03, 0.04]"
   ]
  },
  {
   "cell_type": "code",
   "execution_count": null,
   "id": "8591a18e",
   "metadata": {},
   "outputs": [],
   "source": [
    "df = df_all.copy()\n",
    "\n",
    "# Filter only the configured dataset\n",
    "df = df[df[DATASET_COL] == dataset]\n",
    "df = df.drop(DATASET_COL, axis=1)\n",
    "\n",
    "# Noise stddev column to string (categorical)\n",
    "df[NOISE_COL] = df[NOISE_COL].map(\"{:.2f}\".format)"
   ]
  },
  {
   "cell_type": "code",
   "execution_count": null,
   "id": "7436be2f",
   "metadata": {},
   "outputs": [],
   "source": [
    "fig, (ax1, ax2) = plt.subplots(1, 2, figsize=(5.6, 2))\n",
    "\n",
    "# PSNR\n",
    "sns.lineplot(x=PRIOR_NOISE_COL, y=\"PSNR\", hue=NOISE_COL, data=df, estimator=\"mean\", ci=None, ax=ax1)\n",
    "ax1.set_xlabel(\"Denoiser $\\sigma $\")\n",
    "ax1.set_ylabel(\"PSNR\")\n",
    "ax1.legend(title='Noise $\\sigma_n $')\n",
    "\n",
    "# LPIPS\n",
    "sns.lineplot(x=PRIOR_NOISE_COL, y=\"LPIPS_ALEX\", hue=NOISE_COL, data=df, estimator=\"mean\", ci=None, legend=False, ax=ax2)\n",
    "ax2.set_xlabel(\"Denoiser $\\sigma $\")\n",
    "ax2.set_ylabel(\"LPIPS\")\n",
    "\n",
    "save_figure(fig, \"../masters-thesis-tex/img/dmsp_prior_noise_deblur\")"
   ]
  }
 ],
 "metadata": {
  "interpreter": {
   "hash": "a2a8e9b59df830d48e9f72a82c46cdc1119b3ef257c7d0eadd36484a360f3166"
  },
  "kernelspec": {
   "display_name": "Python 3.6.13 64-bit ('masters-proj-eval': conda)",
   "name": "python3"
  },
  "language_info": {
   "codemirror_mode": {
    "name": "ipython",
    "version": 3
   },
   "file_extension": ".py",
   "mimetype": "text/x-python",
   "name": "python",
   "nbconvert_exporter": "python",
   "pygments_lexer": "ipython3",
   "version": "3.6.13"
  }
 },
 "nbformat": 4,
 "nbformat_minor": 5
}
