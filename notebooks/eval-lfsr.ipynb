{
 "cells": [
  {
   "cell_type": "code",
   "execution_count": null,
   "metadata": {},
   "outputs": [],
   "source": [
    "%cd .."
   ]
  },
  {
   "cell_type": "code",
   "execution_count": null,
   "metadata": {},
   "outputs": [],
   "source": [
    "import json\n",
    "import pandas as pd\n",
    "from notebooks import utils"
   ]
  },
  {
   "cell_type": "code",
   "execution_count": null,
   "metadata": {},
   "outputs": [],
   "source": [
    "MODEL_COL = \"model\"\n",
    "METHOD_COL = \"method\"\n",
    "DATASET_COL = \"dataset\"\n",
    "IMAGE_COL = \"image_index\"\n",
    "SCALE_COL = \"scale_factor\"\n",
    "DOWNSCALE_COL = \"downscale_method\""
   ]
  },
  {
   "cell_type": "code",
   "execution_count": null,
   "metadata": {},
   "outputs": [],
   "source": [
    "hqs_folder = \"results/lfsr/hqs/\"\n",
    "bicubic_csv = \"results/lfsr/bicubic.csv\"\n",
    "edsr_csv = \"results/lfsr/edsr.csv\"\n",
    "edvr_csv = \"results/lfsr/edvr.csv\"\n",
    "esrgan_csv = \"results/lfsr/esrgan.csv\"\n",
    "lfssr_csv = \"results/lfsr/lfssr.csv\"\n",
    "\n",
    "# HQS\n",
    "df_hqs = utils.load_folder(hqs_folder, MODEL_COL)\n",
    "df_hqs[METHOD_COL] = \"hqs\"\n",
    "\n",
    "# Bicubic\n",
    "df_bicubic = pd.read_csv(bicubic_csv)\n",
    "df_bicubic[METHOD_COL] = \"bicubic\"\n",
    "df_bicubic[MODEL_COL] = \"-\"\n",
    "\n",
    "# EDSR\n",
    "df_edsr = pd.read_csv(edsr_csv)\n",
    "df_edsr[METHOD_COL] = \"edsr\"\n",
    "df_edsr[MODEL_COL] = \"-\"\n",
    "\n",
    "# EDVR\n",
    "df_edvr = pd.read_csv(edvr_csv)\n",
    "df_edvr[METHOD_COL] = \"edvr\"\n",
    "df_edvr[MODEL_COL] = \"-\"\n",
    "\n",
    "# ESRGAN\n",
    "df_esrgan = pd.read_csv(esrgan_csv)\n",
    "df_esrgan[METHOD_COL] = \"esrgan\"\n",
    "df_esrgan[MODEL_COL] = \"-\"\n",
    "\n",
    "# LFSSR\n",
    "df_lfssr = pd.read_csv(lfssr_csv)\n",
    "df_lfssr[METHOD_COL] = \"lfssr\"\n",
    "df_lfssr[MODEL_COL] = \"-\"\n",
    "\n",
    "# Combine the datasets\n",
    "df_all = pd.concat([df_hqs, df_bicubic, df_edsr, df_edvr, df_esrgan, df_lfssr], axis=0)"
   ]
  },
  {
   "cell_type": "code",
   "execution_count": null,
   "metadata": {},
   "outputs": [],
   "source": [
    "print(df_all[DATASET_COL].unique())"
   ]
  },
  {
   "cell_type": "code",
   "execution_count": null,
   "metadata": {},
   "outputs": [],
   "source": [
    "dataset = \"HCI\"\n",
    "scale_factor = 4\n",
    "downscale_method = \"kernel\"\n",
    "\n",
    "df = df_all.copy()\n",
    "\n",
    "df = df[df[DATASET_COL] == dataset]\n",
    "df = df[df[SCALE_COL] == scale_factor]\n",
    "df = df[df[DOWNSCALE_COL].str.startswith(downscale_method)]\n",
    "\n",
    "df = df.groupby([MODEL_COL, METHOD_COL, DATASET_COL, SCALE_COL]).mean()\n",
    "df = df.drop(IMAGE_COL, axis=1)\n",
    "\n",
    "# NOTE only for viewing the results in the notebook\n",
    "# -> Max is the best for each metric\n",
    "df[\"LPIPS_ALEX\"] = 1 - df[\"LPIPS_ALEX\"]\n",
    "df[\"LPIPS_VGG\"] = 1 - df[\"LPIPS_VGG\"]\n",
    "\n",
    "df.style.highlight_max(color='green', axis=0)"
   ]
  }
 ],
 "metadata": {
  "interpreter": {
   "hash": "a2a8e9b59df830d48e9f72a82c46cdc1119b3ef257c7d0eadd36484a360f3166"
  },
  "kernelspec": {
   "display_name": "Python 3.6.13 64-bit ('masters-proj-eval': conda)",
   "name": "python3"
  },
  "language_info": {
   "codemirror_mode": {
    "name": "ipython",
    "version": 3
   },
   "file_extension": ".py",
   "mimetype": "text/x-python",
   "name": "python",
   "nbconvert_exporter": "python",
   "pygments_lexer": "ipython3",
   "version": "3.6.13"
  }
 },
 "nbformat": 4,
 "nbformat_minor": 5
}
