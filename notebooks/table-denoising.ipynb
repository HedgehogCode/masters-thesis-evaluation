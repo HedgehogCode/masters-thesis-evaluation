{
 "cells": [
  {
   "cell_type": "code",
   "execution_count": null,
   "metadata": {},
   "outputs": [],
   "source": [
    "%cd .."
   ]
  },
  {
   "cell_type": "code",
   "execution_count": null,
   "metadata": {},
   "outputs": [],
   "source": [
    "import json\n",
    "import numpy as np\n",
    "import pandas as pd\n",
    "from notebooks.utils import *\n",
    "pd.set_option('display.max_rows', 500)"
   ]
  },
  {
   "cell_type": "code",
   "execution_count": null,
   "metadata": {},
   "outputs": [],
   "source": [
    "TEX_TABLE_DIR = \"../masters-thesis-tex/tables/\"\n",
    "\n",
    "MODEL_COL = \"model\"\n",
    "DATASET_COL = \"dataset\"\n",
    "IMAGE_COL = \"image_index\"\n",
    "NOISE_COL = \"noise_stddev\"\n",
    "METRIC_COL = \"metric\"\n",
    "VALUE_COL = \"value\"\n",
    "\n",
    "DATASETS_MAPPING = {\n",
    "    \"CBSD68\": \"CBSD68 \\cite{martin_database_2001}\",\n",
    "    \"Kodak24\": \"Kodak24 \\cite{franzen_kodak_2021}\",\n",
    "    \"McMaster\": \"McMaster \\cite{wu_color_2011}\",\n",
    "}"
   ]
  },
  {
   "cell_type": "code",
   "execution_count": null,
   "metadata": {},
   "outputs": [],
   "source": [
    "# denoising_eval_csv = 'results/denoising/models/all.csv'  # Result of /scripts/eval_denoising_all.py\n",
    "# denoising_eval_cbm3d_csv = 'results/denoising/cbm3d.csv'  # Result of /other-methods/denoising/cbm3d/main.py\n",
    "# denoising_eval_dncnn_csv = 'results/denoising/dncnn.csv'  # Result of /other-methods/denoising/dncnn/main.py\n",
    "\n",
    "# # Read the evaluation\n",
    "# df_models = pd.read_csv(denoising_eval_csv)\n",
    "# df_cbm3d = pd.read_csv(denoising_eval_cbm3d_csv)\n",
    "# df_dncnn = pd.read_csv(denoising_eval_dncnn_csv)\n",
    "\n",
    "# # Combine the datasets\n",
    "# df_cbm3d[MODEL_COL] = \"CBM3D\"\n",
    "# df_dncnn[MODEL_COL] = \"CDnCNN-B\"\n",
    "# df_all = pd.concat([df_models, df_cbm3d, df_dncnn], axis=0)\n",
    "df_all = load_folder('results/denoising/', MODEL_COL)\n"
   ]
  },
  {
   "cell_type": "code",
   "execution_count": null,
   "metadata": {},
   "outputs": [],
   "source": [
    "# Read the model name mapping\n",
    "with open('models/model_name_mapping.json') as f:\n",
    "    model_mapping = json.load(f)\n",
    "\n",
    "model_mapping = {\n",
    "    \"cbm3d\": \"CBM3D \\cite{makinen_collaborative_2020}\",\n",
    "    \"dncnn\": \"CDnCNN-B \\cite{zhang_beyond_2017}\",\n",
    "    **model_mapping\n",
    "}\n",
    "models = list(model_mapping.keys())"
   ]
  },
  {
   "cell_type": "code",
   "execution_count": null,
   "metadata": {},
   "outputs": [],
   "source": [
    "print(df_all[DATASET_COL].unique())"
   ]
  },
  {
   "cell_type": "markdown",
   "metadata": {},
   "source": [
    "# Main Text Table"
   ]
  },
  {
   "cell_type": "code",
   "execution_count": null,
   "metadata": {},
   "outputs": [],
   "source": [
    "dataset = \"CBSD68\"\n",
    "metrics = [\"PSNR\", \"LPIPS_ALEX\"]\n",
    "metrics_mapping = {\n",
    "    \"PSNR\": \"PSNR\",\n",
    "    \"LPIPS_ALEX\": \"LPIPS\",\n",
    "}\n",
    "noise_levels = [0.05, 0.10, 0.20]"
   ]
  },
  {
   "cell_type": "code",
   "execution_count": null,
   "metadata": {},
   "outputs": [],
   "source": [
    "df = df_all.copy()\n",
    "\n",
    "# Filter only the configured dataset\n",
    "df = df[df[DATASET_COL] == dataset]\n",
    "df = df.drop(DATASET_COL, axis=1)\n",
    "\n",
    "# Mean over the images\n",
    "df = df.groupby([MODEL_COL, NOISE_COL]).mean()\n",
    "df = df.drop(IMAGE_COL, axis=1)\n",
    "df = df.reset_index()\n",
    "\n",
    "# Combine all metrics in one column\n",
    "df = df.melt(\n",
    "    id_vars=[MODEL_COL, NOISE_COL],\n",
    "    var_name=METRIC_COL,\n",
    "    value_name=VALUE_COL,\n",
    ")\n",
    "\n",
    "# Filter metrics and datasets\n",
    "df = df[df[METRIC_COL].isin(metrics)]\n",
    "df = df[df[MODEL_COL].isin(models)]\n",
    "df = df[df[NOISE_COL].isin(noise_levels)]\n",
    "\n",
    "# Sort by Noise, and Metric\n",
    "df = df.sort_values(METRIC_COL, key=sort_key_for(metrics), kind=\"mergesort\")\n",
    "df = df.sort_values(NOISE_COL, kind=\"mergesort\")\n",
    "\n",
    "# Remap metrics\n",
    "df[METRIC_COL] = df[METRIC_COL].map(metrics_mapping)\n",
    "\n",
    "# Noise Level and Metric as columns\n",
    "df = df.set_index([MODEL_COL, NOISE_COL, METRIC_COL])\n",
    "df = df.unstack([NOISE_COL, METRIC_COL])\n",
    "\n",
    "# Sort and remap models\n",
    "df = df.reset_index()\n",
    "df = df.sort_values(MODEL_COL, key=sort_key_for(models), kind=\"mergesort\")\n",
    "df[MODEL_COL] = df[MODEL_COL].map(model_mapping)\n",
    "df = df.set_index(MODEL_COL)\n",
    "\n",
    "# Organize the column naming\n",
    "df.columns = df.columns.droplevel(0)\n",
    "df.columns = df.columns.rename([\"Additive noise \\( \\sigma_n \\)\", \"\"])\n",
    "\n",
    "# Rename model column\n",
    "df.index = df.index.rename(\"Model\")\n",
    "\n",
    "df\n"
   ]
  },
  {
   "cell_type": "markdown",
   "metadata": {},
   "source": [
    "## Convert to LaTeX"
   ]
  },
  {
   "cell_type": "code",
   "execution_count": null,
   "metadata": {},
   "outputs": [],
   "source": [
    "column_format = \"l\" + \"C{1}\" * len(df.columns)\n",
    "\n",
    "\n",
    "formatters = {\n",
    "    c: mark_column_best_formatter(\n",
    "        df, c, mark_max=c[1] == \"PSNR\", num_decimals=2 if c[1] == \"PSNR\" else 4\n",
    "    )\n",
    "    for c in df.columns\n",
    "}\n",
    "\n",
    "with pd.option_context(\"max_colwidth\", 1000):\n",
    "    latex = df.to_latex(\n",
    "        # float_format=float_format(True),\n",
    "        formatters=formatters,\n",
    "        escape=False,\n",
    "        column_format=column_format,\n",
    "        multicolumn_format=\"c\",\n",
    "        multirow=True,\n",
    "    )\n",
    "# Use tabularx\n",
    "latex = latex.replace(\"\\\\begin{tabular}\", \"\\\\begin{tabularx}{\\\\textwidth}\")\n",
    "latex = latex.replace(\"\\\\end{tabular}\", \"\\\\end{tabularx}\")\n",
    "\n",
    "latex = add_midrule(latex, 10)\n",
    "latex = add_midrule(latex, 18)\n",
    "\n",
    "print(latex)\n"
   ]
  },
  {
   "cell_type": "code",
   "execution_count": null,
   "metadata": {},
   "outputs": [],
   "source": [
    "with open(TEX_TABLE_DIR + \"denoising_cbsd68.tex\", \"w\") as f:\n",
    "    f.write(latex)"
   ]
  },
  {
   "cell_type": "markdown",
   "metadata": {},
   "source": [
    "# Appendix Table"
   ]
  },
  {
   "cell_type": "code",
   "execution_count": null,
   "metadata": {},
   "outputs": [],
   "source": [
    "datasets = [\"CBSD68\", \"Kodak24\", \"McMaster\"]\n",
    "metrics = [\"PSNR\", \"SSIM\", \"FSIM\", \"LPIPS_ALEX\"]\n",
    "metrics_mapping = {\n",
    "    \"PSNR\": \"P\",\n",
    "    \"SSIM\": \"S\",\n",
    "    \"FSIM\": \"F\",\n",
    "    \"LPIPS_ALEX\": \"L\",\n",
    "}\n",
    "noise_levels = [0.01, 0.05, 0.10, 0.20]"
   ]
  },
  {
   "cell_type": "code",
   "execution_count": null,
   "metadata": {},
   "outputs": [],
   "source": [
    "df = df_all.copy()\n",
    "\n",
    "# Mean over the images\n",
    "df = df.groupby([MODEL_COL, NOISE_COL, DATASET_COL]).mean()\n",
    "df = df.drop(IMAGE_COL, axis=1)\n",
    "df = df.reset_index()\n",
    "\n",
    "# Combine all metrics in one column\n",
    "df = df.melt(\n",
    "    id_vars=[MODEL_COL, DATASET_COL, NOISE_COL],\n",
    "    var_name=METRIC_COL,\n",
    "    value_name=VALUE_COL,\n",
    ")\n",
    "\n",
    "# Filter metrics and datasets\n",
    "df = df[df[METRIC_COL].isin(metrics)]\n",
    "df = df[df[DATASET_COL].isin(datasets)]\n",
    "df = df[df[MODEL_COL].isin(models)]\n",
    "\n",
    "# Remap names\n",
    "df[MODEL_COL] = df[MODEL_COL].map(model_mapping)\n",
    "\n",
    "# Models as columns\n",
    "df = df.set_index([DATASET_COL, NOISE_COL, METRIC_COL, MODEL_COL])\n",
    "df = df.unstack(MODEL_COL)\n",
    "\n",
    "df = df.reset_index()\n",
    "\n",
    "# Sort by Dataset, Noise, and Metric\n",
    "df = df.sort_values(METRIC_COL, key=sort_key_for(metrics), kind=\"mergesort\")\n",
    "df = df.sort_values(NOISE_COL, kind=\"mergesort\")\n",
    "df = df.sort_values(DATASET_COL, key=sort_key_for(datasets), kind=\"mergesort\")\n",
    "\n",
    "# Rename Dataset, Noise, and Metric\n",
    "df[DATASET_COL] = df[DATASET_COL].map(\n",
    "    lambda x: \"\\rotatebox[origin=c]{90}{\" + DATASETS_MAPPING[x] + \"}\"\n",
    ")\n",
    "df[NOISE_COL] = df[NOISE_COL].map(\n",
    "    lambda x: \"\\rotatebox[origin=c]{90}{\\( \\sigma_n \\)=\" + str(x) + \" }\"\n",
    ")\n",
    "df[METRIC_COL] = df[METRIC_COL].map(metrics_mapping)\n",
    "\n",
    "df = df.set_index([DATASET_COL, NOISE_COL, METRIC_COL])\n",
    "\n",
    "# Update the column index and index\n",
    "df.columns = df.columns.droplevel(0)\n",
    "df.columns = df.columns.rename(\"\")\n",
    "df.index = df.index.rename([\"\", \"\", \"\"])\n",
    "\n",
    "# Sort models\n",
    "df = df.reindex(list(model_mapping.values()), axis=1)\n",
    "\n",
    "# Replace nan\n",
    "df = df.replace(np.nan, \"---\")\n",
    "\n",
    "df\n"
   ]
  },
  {
   "cell_type": "markdown",
   "metadata": {},
   "source": [
    "## Convert to LaTeX"
   ]
  },
  {
   "cell_type": "code",
   "execution_count": null,
   "metadata": {},
   "outputs": [],
   "source": [
    "column_format = \"lll|\" + \"C{0.7}\" * 4 + \"|\" + \"C{1}\" * (len(df.columns) - 4)\n",
    "\n",
    "with pd.option_context(\"max_colwidth\", 1000):\n",
    "    latex = df.to_latex(\n",
    "        float_format=float_format(True),\n",
    "        escape=False,\n",
    "        na_rep=\"---\",\n",
    "        column_format=column_format,\n",
    "        multicolumn_format=\"c\",\n",
    "        multirow=True,\n",
    "    )\n",
    "# Use tabularx\n",
    "latex = latex.replace(\"\\\\begin{tabular}\", \"\\\\begin{tabularx}{\\\\textwidth}\")\n",
    "latex = latex.replace(\"\\\\end{tabular}\", \"\\\\end{tabularx}\")\n",
    "\n",
    "latex = delete_line(latex, 3)\n",
    "\n",
    "# print(latex)"
   ]
  },
  {
   "cell_type": "markdown",
   "metadata": {},
   "source": [
    "## Save to tex file"
   ]
  },
  {
   "cell_type": "code",
   "execution_count": null,
   "metadata": {},
   "outputs": [],
   "source": [
    "with open(TEX_TABLE_DIR + \"all_denoising.tex\", \"w\") as f:\n",
    "    f.write(latex)\n"
   ]
  }
 ],
 "metadata": {
  "interpreter": {
   "hash": "a2a8e9b59df830d48e9f72a82c46cdc1119b3ef257c7d0eadd36484a360f3166"
  },
  "kernelspec": {
   "display_name": "Python 3.6.13 64-bit ('masters-proj-eval': conda)",
   "name": "python3"
  },
  "language_info": {
   "codemirror_mode": {
    "name": "ipython",
    "version": 3
   },
   "file_extension": ".py",
   "mimetype": "text/x-python",
   "name": "python",
   "nbconvert_exporter": "python",
   "pygments_lexer": "ipython3",
   "version": "3.6.13"
  }
 },
 "nbformat": 4,
 "nbformat_minor": 5
}
