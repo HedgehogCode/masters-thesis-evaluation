{
 "cells": [
  {
   "cell_type": "code",
   "execution_count": 1,
   "metadata": {},
   "outputs": [
    {
     "name": "stdout",
     "output_type": "stream",
     "text": [
      "/home/benjamin/git/masters-thesis/masters-thesis-evaluation\n"
     ]
    }
   ],
   "source": [
    "%cd .."
   ]
  },
  {
   "cell_type": "code",
   "execution_count": 2,
   "metadata": {},
   "outputs": [],
   "source": [
    "import json\n",
    "import pandas as pd\n",
    "from notebooks import utils"
   ]
  },
  {
   "cell_type": "code",
   "execution_count": 3,
   "metadata": {},
   "outputs": [],
   "source": [
    "MODEL_COL = \"model\"\n",
    "DATASET_COL = \"dataset\"\n",
    "IMAGE_COL = \"image_index\"\n",
    "NOISE_COL = \"noise_stddev\""
   ]
  },
  {
   "cell_type": "code",
   "execution_count": 4,
   "metadata": {},
   "outputs": [],
   "source": [
    "df_all = utils.load_folder('results/denoising/', MODEL_COL)\n",
    "print(df_all[DATASET_COL].unique())"
   ]
  },
  {
   "cell_type": "code",
   "execution_count": 6,
   "metadata": {},
   "outputs": [
    {
     "data": {
      "text/html": [
       "<style  type=\"text/css\" >\n",
       "#T_33d51a16_5538_11ec_86cf_9cb6d0d0b95drow4_col2,#T_33d51a16_5538_11ec_86cf_9cb6d0d0b95drow4_col3,#T_33d51a16_5538_11ec_86cf_9cb6d0d0b95drow4_col4,#T_33d51a16_5538_11ec_86cf_9cb6d0d0b95drow6_col0,#T_33d51a16_5538_11ec_86cf_9cb6d0d0b95drow6_col1{\n",
       "            background-color:  green;\n",
       "        }</style><table id=\"T_33d51a16_5538_11ec_86cf_9cb6d0d0b95d\" ><thead>    <tr>        <th class=\"blank\" ></th>        <th class=\"blank\" ></th>        <th class=\"blank level0\" ></th>        <th class=\"col_heading level0 col0\" >PSNR</th>        <th class=\"col_heading level0 col1\" >SSIM</th>        <th class=\"col_heading level0 col2\" >FSIM</th>        <th class=\"col_heading level0 col3\" >LPIPS_ALEX</th>        <th class=\"col_heading level0 col4\" >LPIPS_VGG</th>    </tr>    <tr>        <th class=\"index_name level0\" >model</th>        <th class=\"index_name level1\" >dataset</th>        <th class=\"index_name level2\" >noise_stddev</th>        <th class=\"blank\" ></th>        <th class=\"blank\" ></th>        <th class=\"blank\" ></th>        <th class=\"blank\" ></th>        <th class=\"blank\" ></th>    </tr></thead><tbody>\n",
       "                <tr>\n",
       "                        <th id=\"T_33d51a16_5538_11ec_86cf_9cb6d0d0b95dlevel0_row0\" class=\"row_heading level0 row0\" >cbm3d</th>\n",
       "                        <th id=\"T_33d51a16_5538_11ec_86cf_9cb6d0d0b95dlevel1_row0\" class=\"row_heading level1 row0\" >McMaster</th>\n",
       "                        <th id=\"T_33d51a16_5538_11ec_86cf_9cb6d0d0b95dlevel2_row0\" class=\"row_heading level2 row0\" >0.2</th>\n",
       "                        <td id=\"T_33d51a16_5538_11ec_86cf_9cb6d0d0b95drow0_col0\" class=\"data row0 col0\" >28.403438</td>\n",
       "                        <td id=\"T_33d51a16_5538_11ec_86cf_9cb6d0d0b95drow0_col1\" class=\"data row0 col1\" >0.779363</td>\n",
       "                        <td id=\"T_33d51a16_5538_11ec_86cf_9cb6d0d0b95drow0_col2\" class=\"data row0 col2\" >0.932322</td>\n",
       "                        <td id=\"T_33d51a16_5538_11ec_86cf_9cb6d0d0b95drow0_col3\" class=\"data row0 col3\" >0.799880</td>\n",
       "                        <td id=\"T_33d51a16_5538_11ec_86cf_9cb6d0d0b95drow0_col4\" class=\"data row0 col4\" >0.656198</td>\n",
       "            </tr>\n",
       "            <tr>\n",
       "                        <th id=\"T_33d51a16_5538_11ec_86cf_9cb6d0d0b95dlevel0_row1\" class=\"row_heading level0 row1\" >dncnn</th>\n",
       "                        <th id=\"T_33d51a16_5538_11ec_86cf_9cb6d0d0b95dlevel1_row1\" class=\"row_heading level1 row1\" >McMaster</th>\n",
       "                        <th id=\"T_33d51a16_5538_11ec_86cf_9cb6d0d0b95dlevel2_row1\" class=\"row_heading level2 row1\" >0.2</th>\n",
       "                        <td id=\"T_33d51a16_5538_11ec_86cf_9cb6d0d0b95drow1_col0\" class=\"data row1 col0\" >28.521662</td>\n",
       "                        <td id=\"T_33d51a16_5538_11ec_86cf_9cb6d0d0b95drow1_col1\" class=\"data row1 col1\" >0.794546</td>\n",
       "                        <td id=\"T_33d51a16_5538_11ec_86cf_9cb6d0d0b95drow1_col2\" class=\"data row1 col2\" >0.936864</td>\n",
       "                        <td id=\"T_33d51a16_5538_11ec_86cf_9cb6d0d0b95drow1_col3\" class=\"data row1 col3\" >0.824401</td>\n",
       "                        <td id=\"T_33d51a16_5538_11ec_86cf_9cb6d0d0b95drow1_col4\" class=\"data row1 col4\" >0.664424</td>\n",
       "            </tr>\n",
       "            <tr>\n",
       "                        <th id=\"T_33d51a16_5538_11ec_86cf_9cb6d0d0b95dlevel0_row2\" class=\"row_heading level0 row2\" >drcnn_0.20</th>\n",
       "                        <th id=\"T_33d51a16_5538_11ec_86cf_9cb6d0d0b95dlevel1_row2\" class=\"row_heading level1 row2\" >McMaster</th>\n",
       "                        <th id=\"T_33d51a16_5538_11ec_86cf_9cb6d0d0b95dlevel2_row2\" class=\"row_heading level2 row2\" >0.2</th>\n",
       "                        <td id=\"T_33d51a16_5538_11ec_86cf_9cb6d0d0b95drow2_col0\" class=\"data row2 col0\" >29.104884</td>\n",
       "                        <td id=\"T_33d51a16_5538_11ec_86cf_9cb6d0d0b95drow2_col1\" class=\"data row2 col1\" >0.815395</td>\n",
       "                        <td id=\"T_33d51a16_5538_11ec_86cf_9cb6d0d0b95drow2_col2\" class=\"data row2 col2\" >0.939439</td>\n",
       "                        <td id=\"T_33d51a16_5538_11ec_86cf_9cb6d0d0b95drow2_col3\" class=\"data row2 col3\" >0.828318</td>\n",
       "                        <td id=\"T_33d51a16_5538_11ec_86cf_9cb6d0d0b95drow2_col4\" class=\"data row2 col4\" >0.684353</td>\n",
       "            </tr>\n",
       "            <tr>\n",
       "                        <th id=\"T_33d51a16_5538_11ec_86cf_9cb6d0d0b95dlevel0_row3\" class=\"row_heading level0 row3\" >drugan+-lambda-zero_0.0-0.2</th>\n",
       "                        <th id=\"T_33d51a16_5538_11ec_86cf_9cb6d0d0b95dlevel1_row3\" class=\"row_heading level1 row3\" >McMaster</th>\n",
       "                        <th id=\"T_33d51a16_5538_11ec_86cf_9cb6d0d0b95dlevel2_row3\" class=\"row_heading level2 row3\" >0.2</th>\n",
       "                        <td id=\"T_33d51a16_5538_11ec_86cf_9cb6d0d0b95drow3_col0\" class=\"data row3 col0\" >29.546366</td>\n",
       "                        <td id=\"T_33d51a16_5538_11ec_86cf_9cb6d0d0b95drow3_col1\" class=\"data row3 col1\" >0.828001</td>\n",
       "                        <td id=\"T_33d51a16_5538_11ec_86cf_9cb6d0d0b95drow3_col2\" class=\"data row3 col2\" >0.955824</td>\n",
       "                        <td id=\"T_33d51a16_5538_11ec_86cf_9cb6d0d0b95drow3_col3\" class=\"data row3 col3\" >0.905056</td>\n",
       "                        <td id=\"T_33d51a16_5538_11ec_86cf_9cb6d0d0b95drow3_col4\" class=\"data row3 col4\" >0.762604</td>\n",
       "            </tr>\n",
       "            <tr>\n",
       "                        <th id=\"T_33d51a16_5538_11ec_86cf_9cb6d0d0b95dlevel0_row4\" class=\"row_heading level0 row4\" >drugan+_0.0-0.2</th>\n",
       "                        <th id=\"T_33d51a16_5538_11ec_86cf_9cb6d0d0b95dlevel1_row4\" class=\"row_heading level1 row4\" >McMaster</th>\n",
       "                        <th id=\"T_33d51a16_5538_11ec_86cf_9cb6d0d0b95dlevel2_row4\" class=\"row_heading level2 row4\" >0.2</th>\n",
       "                        <td id=\"T_33d51a16_5538_11ec_86cf_9cb6d0d0b95drow4_col0\" class=\"data row4 col0\" >29.061797</td>\n",
       "                        <td id=\"T_33d51a16_5538_11ec_86cf_9cb6d0d0b95drow4_col1\" class=\"data row4 col1\" >0.810217</td>\n",
       "                        <td id=\"T_33d51a16_5538_11ec_86cf_9cb6d0d0b95drow4_col2\" class=\"data row4 col2\" >0.956813</td>\n",
       "                        <td id=\"T_33d51a16_5538_11ec_86cf_9cb6d0d0b95drow4_col3\" class=\"data row4 col3\" >0.912618</td>\n",
       "                        <td id=\"T_33d51a16_5538_11ec_86cf_9cb6d0d0b95drow4_col4\" class=\"data row4 col4\" >0.764291</td>\n",
       "            </tr>\n",
       "            <tr>\n",
       "                        <th id=\"T_33d51a16_5538_11ec_86cf_9cb6d0d0b95dlevel0_row5\" class=\"row_heading level0 row5\" >drunet+_0.0-0.2</th>\n",
       "                        <th id=\"T_33d51a16_5538_11ec_86cf_9cb6d0d0b95dlevel1_row5\" class=\"row_heading level1 row5\" >McMaster</th>\n",
       "                        <th id=\"T_33d51a16_5538_11ec_86cf_9cb6d0d0b95dlevel2_row5\" class=\"row_heading level2 row5\" >0.2</th>\n",
       "                        <td id=\"T_33d51a16_5538_11ec_86cf_9cb6d0d0b95drow5_col0\" class=\"data row5 col0\" >29.791655</td>\n",
       "                        <td id=\"T_33d51a16_5538_11ec_86cf_9cb6d0d0b95drow5_col1\" class=\"data row5 col1\" >0.838596</td>\n",
       "                        <td id=\"T_33d51a16_5538_11ec_86cf_9cb6d0d0b95drow5_col2\" class=\"data row5 col2\" >0.947238</td>\n",
       "                        <td id=\"T_33d51a16_5538_11ec_86cf_9cb6d0d0b95drow5_col3\" class=\"data row5 col3\" >0.857697</td>\n",
       "                        <td id=\"T_33d51a16_5538_11ec_86cf_9cb6d0d0b95drow5_col4\" class=\"data row5 col4\" >0.726717</td>\n",
       "            </tr>\n",
       "            <tr>\n",
       "                        <th id=\"T_33d51a16_5538_11ec_86cf_9cb6d0d0b95dlevel0_row6\" class=\"row_heading level0 row6\" >drunet_0.0-0.2</th>\n",
       "                        <th id=\"T_33d51a16_5538_11ec_86cf_9cb6d0d0b95dlevel1_row6\" class=\"row_heading level1 row6\" >McMaster</th>\n",
       "                        <th id=\"T_33d51a16_5538_11ec_86cf_9cb6d0d0b95dlevel2_row6\" class=\"row_heading level2 row6\" >0.2</th>\n",
       "                        <td id=\"T_33d51a16_5538_11ec_86cf_9cb6d0d0b95drow6_col0\" class=\"data row6 col0\" >29.981754</td>\n",
       "                        <td id=\"T_33d51a16_5538_11ec_86cf_9cb6d0d0b95drow6_col1\" class=\"data row6 col1\" >0.844644</td>\n",
       "                        <td id=\"T_33d51a16_5538_11ec_86cf_9cb6d0d0b95drow6_col2\" class=\"data row6 col2\" >0.946072</td>\n",
       "                        <td id=\"T_33d51a16_5538_11ec_86cf_9cb6d0d0b95drow6_col3\" class=\"data row6 col3\" >0.857257</td>\n",
       "                        <td id=\"T_33d51a16_5538_11ec_86cf_9cb6d0d0b95drow6_col4\" class=\"data row6 col4\" >0.725110</td>\n",
       "            </tr>\n",
       "            <tr>\n",
       "                        <th id=\"T_33d51a16_5538_11ec_86cf_9cb6d0d0b95dlevel0_row7\" class=\"row_heading level0 row7\" >dunet+_0.0-0.2</th>\n",
       "                        <th id=\"T_33d51a16_5538_11ec_86cf_9cb6d0d0b95dlevel1_row7\" class=\"row_heading level1 row7\" >McMaster</th>\n",
       "                        <th id=\"T_33d51a16_5538_11ec_86cf_9cb6d0d0b95dlevel2_row7\" class=\"row_heading level2 row7\" >0.2</th>\n",
       "                        <td id=\"T_33d51a16_5538_11ec_86cf_9cb6d0d0b95drow7_col0\" class=\"data row7 col0\" >29.217434</td>\n",
       "                        <td id=\"T_33d51a16_5538_11ec_86cf_9cb6d0d0b95drow7_col1\" class=\"data row7 col1\" >0.819080</td>\n",
       "                        <td id=\"T_33d51a16_5538_11ec_86cf_9cb6d0d0b95drow7_col2\" class=\"data row7 col2\" >0.943811</td>\n",
       "                        <td id=\"T_33d51a16_5538_11ec_86cf_9cb6d0d0b95drow7_col3\" class=\"data row7 col3\" >0.844114</td>\n",
       "                        <td id=\"T_33d51a16_5538_11ec_86cf_9cb6d0d0b95drow7_col4\" class=\"data row7 col4\" >0.700879</td>\n",
       "            </tr>\n",
       "    </tbody></table>"
      ],
      "text/plain": [
       "<pandas.io.formats.style.Styler at 0x7fd1316add30>"
      ]
     },
     "execution_count": 6,
     "metadata": {},
     "output_type": "execute_result"
    }
   ],
   "source": [
    "dataset = \"McMaster\"\n",
    "noise_stddev = 0.2\n",
    "\n",
    "df = df_all.copy()\n",
    "\n",
    "df = df[df[DATASET_COL] == dataset]\n",
    "df = df[df[NOISE_COL] == noise_stddev]\n",
    "\n",
    "df = df.groupby([MODEL_COL, DATASET_COL, NOISE_COL]).mean()\n",
    "df = df.drop(IMAGE_COL, axis=1)\n",
    "\n",
    "# NOTE only for viewing the results in the notebook\n",
    "# -> Max is the best for each metric\n",
    "df[\"LPIPS_ALEX\"] = 1 - df[\"LPIPS_ALEX\"]\n",
    "df[\"LPIPS_VGG\"] = 1 - df[\"LPIPS_VGG\"]\n",
    "\n",
    "df.style.highlight_max(color='green', axis=0)"
   ]
  }
 ],
 "metadata": {
  "interpreter": {
   "hash": "a2a8e9b59df830d48e9f72a82c46cdc1119b3ef257c7d0eadd36484a360f3166"
  },
  "kernelspec": {
   "display_name": "Python 3.6.13 64-bit ('masters-proj-eval': conda)",
   "name": "python3"
  },
  "language_info": {
   "codemirror_mode": {
    "name": "ipython",
    "version": 3
   },
   "file_extension": ".py",
   "mimetype": "text/x-python",
   "name": "python",
   "nbconvert_exporter": "python",
   "pygments_lexer": "ipython3",
   "version": "3.6.13"
  }
 },
 "nbformat": 4,
 "nbformat_minor": 5
}
